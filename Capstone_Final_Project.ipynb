{
 "cells": [
  {
   "cell_type": "markdown",
   "metadata": {
    "collapsed": true
   },
   "source": [
    "# Capstone Project - The Battle of Neighbourhoods"
   ]
  },
  {
   "cell_type": "markdown",
   "metadata": {},
   "source": [
    "## Introduction"
   ]
  },
  {
   "cell_type": "markdown",
   "metadata": {},
   "source": [
    "Oh dear, woe is me.  For I, a humble data scientist, have been assigned an arduous task by the mayor of Toronto himself, John Tory.  He has asked me to name a single neighbourhood as the ‘Restaurant Capital’ of Toronto.  He will be using my results to create a marketing plan and social media campaign for the city, specifically focusing on the diversity, and quality of Toronto Restaurants.\n",
    "\n",
    "That’s not where it ended, for he included some very specific criteria.  He has asked me to evaluate each neighbourhood on 5 metrics, and only the neighbourhood that commands the highest total score in these metrics can be crowned capital. The 5 metrics are: total number of restaurants, restaurant varieties, best value, most popular, and most photogenic.\n",
    "\n",
    "To accomplish this task I will need to use the location data for each Toronto neighbourhood to pull venue details from Foursquare and calculate a score for each metric for each neighbourhood."
   ]
  },
  {
   "cell_type": "markdown",
   "metadata": {},
   "source": [
    "## Data"
   ]
  },
  {
   "cell_type": "markdown",
   "metadata": {},
   "source": [
    "For this project, I will be leveraging the location data used in my Segmenting and Clustering Neighbourhoods in Toronto assignment.  In that assignment, I scraped postal code, borough and neighbourhood information from a Wikipedia table.  I then merged that data with a CSV file containing coordinates for each Toronto postal code and then used those coordinates to pull data from Foursquare.\n",
    "\n",
    "This time I will be pulling data from Foursquare only where the venue category is Food (or a sub-category of food ie restaurant).  I will then use Foursquare data to assign each neighbourhood with a score out of 10 for each metric.  The highest total score will be the winner.  I have broken down the data and calculations involved in generating each metric below.\n",
    "\n",
    "#### Metrics\n",
    "###### Total number of Restaurants\n",
    "For the total number of restaurants metric, I will do a simple count of the restaurants pulled from Foursquare in each neighbourhood.  I will then divide each neighbourhood’s count by the highest total count and multiply by 10.  Using this logic, the neighbourhood with the highest number of restaurants should have a score of 10/10.\n",
    "\n",
    "###### Restaurant Varieties\n",
    "For the restaurant varieties metric, I will do a count of the distinct categories for the restaurants pulled from Foursquare in each neighbourhood.  I will then divide each neighbourhood’s distinct count by the highest total and multiple by 10.  Using this logic, the neighbourhood with the highest count of distinct restaurant categories should have a score of 10/10.\n",
    "\n",
    "###### Best Value\n",
    "For the best value metric, I will divide the rating for each venue by the price for each venue divided by 4 (since the price score is out of four).  Rating and price are both fields available for venues in Foursquare. So a venue with a price rating of 1/4 and an overall rating of 10 would receive a value score of 40.  Then I will calculate the average value score for each neighbourhood and divide it by the highest neighbourhood average and multiply by 10.  Using this logic, the neighbourhood with the highest average value score should have a score of 10/10 in the value metric.\n",
    "\n",
    "###### Most Popular\n",
    "For the most popular metric, I will pull the total checkins for each venue from Foursquare and sum it to create a total checkin score for each neighbourhood.  This total checkin score will then be divided by the total number of restaurants in each neighbourhood to create a popularity quotient.  For each neighbourhood, this number will then be divided by the highest popularity quotient and multiplied by 10.  Using this logic, the neighbourhood with the most checkins per venue should have a popularity score of 10/10.\n",
    "\n",
    "###### Most Photogenic\n",
    "For the most photogenic metric, I will pull the count of photos for each venue from Foursquare and sum a total for each neighbourhood.  I will then divide this total by the total number of restaurants in each neighbourhood to create a photographed quotient.  Then I will divide each neighbourhood’s photographed quotient by the highest photographed quotient and multiply by 10.  Using this logic, the neighbourhood with the most photographs per venue should have a photogenic score of 10/10.\n",
    "\n",
    "It is worth noting that this is just an initial plan, and I may find that some of the data I’m relying on to create my metrics is not available.  In that case, I will have to get creative and find an alternate way to calculate values for each neighbourhoods’ metrics.  I will document any changes to this logic, and the reason behind them throughout my notebook.\n",
    "\n",
    "Once each neighbourhood has a value for all metrics, the metrics will be summed for each neighbourhood and the highest total score wins.  This neighbourhood will become Toronto’s Restaurant Capital."
   ]
  },
  {
   "cell_type": "code",
   "execution_count": null,
   "metadata": {},
   "outputs": [],
   "source": []
  }
 ],
 "metadata": {
  "kernelspec": {
   "display_name": "Python 3.5",
   "language": "python",
   "name": "python3"
  },
  "language_info": {
   "codemirror_mode": {
    "name": "ipython",
    "version": 3
   },
   "file_extension": ".py",
   "mimetype": "text/x-python",
   "name": "python",
   "nbconvert_exporter": "python",
   "pygments_lexer": "ipython3",
   "version": "3.5.5"
  }
 },
 "nbformat": 4,
 "nbformat_minor": 1
}
